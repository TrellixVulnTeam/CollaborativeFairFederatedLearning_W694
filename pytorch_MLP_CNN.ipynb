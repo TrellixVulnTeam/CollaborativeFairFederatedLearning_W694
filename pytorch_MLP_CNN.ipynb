{
  "nbformat": 4,
  "nbformat_minor": 0,
  "metadata": {
    "colab": {
      "name": "pytorch_MLP_CNN.ipynb",
      "provenance": [],
      "collapsed_sections": [],
      "authorship_tag": "ABX9TyMI5IibYcYXu0LNDmpDvvf6",
      "include_colab_link": true
    },
    "kernelspec": {
      "name": "python3",
      "display_name": "Python 3"
    },
    "accelerator": "GPU"
  },
  "cells": [
    {
      "cell_type": "markdown",
      "metadata": {
        "id": "view-in-github",
        "colab_type": "text"
      },
      "source": [
        "<a href=\"https://colab.research.google.com/github/XinyiYS/FairAndPrivateFederatedLearning/blob/master/pytorch_MLP_CNN.ipynb\" target=\"_parent\"><img src=\"https://colab.research.google.com/assets/colab-badge.svg\" alt=\"Open In Colab\"/></a>"
      ]
    },
    {
      "cell_type": "code",
      "metadata": {
        "id": "uqMjPW4vrdmE",
        "colab_type": "code",
        "colab": {}
      },
      "source": [
        "import torch\n",
        "import torch.nn as nn\n",
        "import torch.nn.functional as F\n",
        "import torch.optim as optim\n",
        "from torchvision import datasets, transforms\n",
        "from torchsummary import summary\n",
        "from torch.utils import data\n",
        "\n",
        "import numpy as np"
      ],
      "execution_count": 0,
      "outputs": []
    },
    {
      "cell_type": "code",
      "metadata": {
        "id": "JjZS4EcEA7UV",
        "colab_type": "code",
        "colab": {}
      },
      "source": [
        "import os\n",
        "root = './mnist'\n",
        "if not os.path.exists(root):\n",
        "    os.mkdir(root)\n",
        "\n",
        "trans = transforms.Compose([transforms.Pad((2,2,2,2)), transforms.ToTensor(), transforms.Normalize((0.1307,), (0.3081,)) ])\n",
        "# if not exist, download mnist dataset\n",
        "train_set = datasets.MNIST(root=root, train=True, transform=trans, download=True)\n",
        "test_set = datasets.MNIST(root=root, train=False, transform=trans, download=True)\n",
        "training_generator = data.DataLoader(train_set, **params)\n",
        "validation_generator = data.DataLoader(test_set, **params)"
      ],
      "execution_count": 0,
      "outputs": []
    },
    {
      "cell_type": "code",
      "metadata": {
        "id": "LrFEcKwCGIWb",
        "colab_type": "code",
        "colab": {}
      },
      "source": [
        "def test(model, device, test_loader, verbose=True):\n",
        "    model.eval()\n",
        "    test_loss = 0\n",
        "    correct = 0\n",
        "    with torch.no_grad():\n",
        "        for data, target in test_loader:\n",
        "            data, target = data.to(device), target.to(device)\n",
        "            output = model(data.float())\n",
        "            test_loss += F.nll_loss(output, target, reduction='sum').item() # sum up batch loss\n",
        "            pred = output.argmax(1, keepdim=True) # get the index of the max log-probability \n",
        "            correct += pred.eq(target.view_as(pred)).sum().item()\n",
        "\n",
        "    test_loss /= len(test_loader.dataset)\n",
        "\n",
        "    if verbose:\n",
        "        print('\\nTest set: Average loss: {:.4f}, Accuracy: {}/{} ({:.0f}%)\\n'.format(\n",
        "            test_loss, correct, len(test_loader.dataset),\n",
        "            100. * correct / len(test_loader.dataset)))\n",
        "    test_acc = 1.* correct / len(test_loader.dataset)\n",
        "    return test_acc\n",
        "\n",
        "def train(model, device, data_loader, optimizer, epoch):\n",
        "    model.train()\n",
        "    for batch_idx, (data, target) in enumerate(data_loader):\n",
        "        data, target = data.to(device), target.to(device)\n",
        "        optimizer.zero_grad()\n",
        "        output = model(data)\n",
        "        loss = F.nll_loss(output, target)\n",
        "        loss.backward()\n",
        "        optimizer.step()"
      ],
      "execution_count": 0,
      "outputs": []
    },
    {
      "cell_type": "code",
      "metadata": {
        "id": "5RNXDpxWMPQR",
        "colab_type": "code",
        "colab": {}
      },
      "source": [
        "# Parameters\n",
        "params = {'batch_size': 10, \n",
        "          'shuffle': True,\n",
        "          'num_workers': 6}\n",
        "max_epochs = 5\n",
        "lr = 1e-2\n",
        "\n",
        "device = torch.device('cpu')\n",
        "if torch.cuda.is_available():\n",
        "    device = torch.device('cuda')"
      ],
      "execution_count": 0,
      "outputs": []
    },
    {
      "cell_type": "code",
      "metadata": {
        "id": "uwVrSop5u1el",
        "colab_type": "code",
        "outputId": "9b85c447-acf2-40f2-d64f-0cdd771a6227",
        "colab": {
          "base_uri": "https://localhost:8080/",
          "height": 357
        }
      },
      "source": [
        "# MLP = nn.Sequential(\n",
        "#     nn.Linear(1024, 128),\n",
        "#     nn.ReLU(),\n",
        "#     nn.Linear(128, 64),\n",
        "#     nn.ReLU(),\n",
        "#     nn.Linear(64, 10),\n",
        "#     nn.LogSoftmax()).to(device)\n",
        "\n",
        "class MLP_Net(nn.Module):\n",
        "    def __init__(self):\n",
        "        super(MLP_Net, self).__init__()        \n",
        "        self.fc1 = nn.Linear(1024, 128)\n",
        "        self.fc2 = nn.Linear(128, 64)\n",
        "        self.fc3 = nn.Linear(64, 10)\n",
        "\n",
        "    def forward(self, x):\n",
        "        x = x.view(-1,  1024)\n",
        "        x = F.relu(self.fc1(x))\n",
        "        x = F.relu(self.fc2(x))\n",
        "        x = self.fc3(x)        \n",
        "        return F.log_softmax(x, dim=1)\n",
        "\n",
        "MLP = MLP_Net().to(device)\n",
        "optimizer = optim.SGD(MLP.parameters(), lr=lr) # TODO momentum is not supported at the moment\n",
        "summary(MLP, (1, 32, 32))\n",
        "\n",
        "train(MLP, device, training_generator, optimizer, max_epochs)\n",
        "test(MLP, device, validation_generator)"
      ],
      "execution_count": 9,
      "outputs": [
        {
          "output_type": "stream",
          "text": [
            "----------------------------------------------------------------\n",
            "        Layer (type)               Output Shape         Param #\n",
            "================================================================\n",
            "            Linear-1                  [-1, 128]         131,200\n",
            "            Linear-2                   [-1, 64]           8,256\n",
            "            Linear-3                   [-1, 10]             650\n",
            "================================================================\n",
            "Total params: 140,106\n",
            "Trainable params: 140,106\n",
            "Non-trainable params: 0\n",
            "----------------------------------------------------------------\n",
            "Input size (MB): 0.00\n",
            "Forward/backward pass size (MB): 0.00\n",
            "Params size (MB): 0.53\n",
            "Estimated Total Size (MB): 0.54\n",
            "----------------------------------------------------------------\n",
            "\n",
            "Test set: Average loss: 0.1673, Accuracy: 9501/10000 (95%)\n",
            "\n"
          ],
          "name": "stdout"
        },
        {
          "output_type": "execute_result",
          "data": {
            "text/plain": [
              "0.9501"
            ]
          },
          "metadata": {
            "tags": []
          },
          "execution_count": 9
        }
      ]
    },
    {
      "cell_type": "code",
      "metadata": {
        "id": "qq8YuTycxFdM",
        "colab_type": "code",
        "outputId": "1ec3ceed-a05e-484d-bac6-76f7b5119742",
        "colab": {
          "base_uri": "https://localhost:8080/",
          "height": 428
        }
      },
      "source": [
        "# CNN = nn.Sequential(\n",
        "#     nn.Conv2d()\n",
        "#     nn.Tanh(),\n",
        "#     nn.MaxPool2d(),\n",
        "#     nn.Conv2d(),\n",
        "#     nn.Tanh(),\n",
        "#     nn.MaxPool2d(),\n",
        "#     nn.Flatten(),\n",
        "#     nn.Linear(256, 200),\n",
        "#     nn.Tanh(),\n",
        "#     nn.Linear(200, 10),\n",
        "#     nn.LogSoftmax()).to(device)\n",
        "\n",
        "class CNN_Net(nn.Module):\n",
        "    def __init__(self):\n",
        "        super(CNN_Net, self).__init__()\n",
        "        self.conv1 = nn.Conv2d(1, 64, 3, 1)\n",
        "        self.conv2 = nn.Conv2d(64, 16, 7, 1)\n",
        "        self.fc1 = nn.Linear(4*4*16, 200)\n",
        "        self.fc2 = nn.Linear(200, 10)\n",
        "\n",
        "    def forward(self, x):\n",
        "        x = x.view(-1, 1, 32, 32)\n",
        "        x = F.tanh(self.conv1(x))\n",
        "        x = F.max_pool2d(x, 2, 2)\n",
        "        x = F.tanh(self.conv2(x))\n",
        "        x = F.max_pool2d(x, 2, 2)\n",
        "        x = x.view(-1, 4*4*16)\n",
        "        x = F.tanh(self.fc1(x))\n",
        "        x = self.fc2(x)\n",
        "        return F.log_softmax(x, dim=1)\n",
        "\n",
        "CNN = CNN_Net().to(device)\n",
        "\n",
        "summary(CNN, (1, 32, 32))\n",
        "optimizer = optim.SGD(CNN.parameters(), lr=lr)\n",
        "\n",
        "train(CNN, device, training_generator, optimizer, max_epochs)\n",
        "test(CNN, device, validation_generator)"
      ],
      "execution_count": 10,
      "outputs": [
        {
          "output_type": "stream",
          "text": [
            "----------------------------------------------------------------\n",
            "        Layer (type)               Output Shape         Param #\n",
            "================================================================\n",
            "            Conv2d-1           [-1, 64, 30, 30]             640\n",
            "            Conv2d-2             [-1, 16, 9, 9]          50,192\n",
            "            Linear-3                  [-1, 200]          51,400\n",
            "            Linear-4                   [-1, 10]           2,010\n",
            "================================================================\n",
            "Total params: 104,242\n",
            "Trainable params: 104,242\n",
            "Non-trainable params: 0\n",
            "----------------------------------------------------------------\n",
            "Input size (MB): 0.00\n",
            "Forward/backward pass size (MB): 0.45\n",
            "Params size (MB): 0.40\n",
            "Estimated Total Size (MB): 0.85\n",
            "----------------------------------------------------------------\n"
          ],
          "name": "stdout"
        },
        {
          "output_type": "stream",
          "text": [
            "/usr/local/lib/python3.6/dist-packages/torch/nn/functional.py:1340: UserWarning: nn.functional.tanh is deprecated. Use torch.tanh instead.\n",
            "  warnings.warn(\"nn.functional.tanh is deprecated. Use torch.tanh instead.\")\n"
          ],
          "name": "stderr"
        },
        {
          "output_type": "stream",
          "text": [
            "\n",
            "Test set: Average loss: 0.0794, Accuracy: 9776/10000 (98%)\n",
            "\n"
          ],
          "name": "stdout"
        },
        {
          "output_type": "execute_result",
          "data": {
            "text/plain": [
              "0.9776"
            ]
          },
          "metadata": {
            "tags": []
          },
          "execution_count": 10
        }
      ]
    },
    {
      "cell_type": "code",
      "metadata": {
        "id": "3ZKneEf6FsBz",
        "colab_type": "code",
        "colab": {}
      },
      "source": [
        ""
      ],
      "execution_count": 0,
      "outputs": []
    }
  ]
}